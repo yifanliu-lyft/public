{
 "cells": [
  {
   "cell_type": "code",
   "execution_count": 21,
   "metadata": {
    "ExecuteTime": {
     "end_time": "2021-02-26T23:21:14.911176Z",
     "start_time": "2021-02-26T23:21:14.904148Z"
    }
   },
   "outputs": [
    {
     "name": "stdout",
     "output_type": "stream",
     "text": [
      "s3://data-team/yifanliu/\n"
     ]
    }
   ],
   "source": [
    "import datetime\n",
    "from pyspark import SparkContext, SparkConf\n",
    "from pyspark.sql import SparkSession, HiveContext, SQLContext\n",
    "\n",
    "\n",
    "from pyspark.sql.functions import (\n",
    "    col,\n",
    "    split\n",
    ")\n",
    "\n",
    "spark_context =SparkContext.getOrCreate()\n",
    "\n",
    "spark = SparkSession.builder \\\n",
    "    .master(\"yarn\") \\\n",
    "    .appName(\"AspectDetector\") \\\n",
    "    .enableHiveSupport() \\\n",
    "    .getOrCreate()\n",
    "\n",
    "sqlContext = SQLContext(spark)\n",
    "\n",
    "# Edit S3 Paths here:\n",
    "s3_bucket = \"data-team\"\n",
    "s3_subpath = \"yifanliu\"\n",
    "s3_fullpath = \"s3://\" + s3_bucket + \"/\" + s3_subpath + \"/\"\n",
    "\n",
    "print(s3_fullpath)\n",
    "\n",
    "#change parameter here\n",
    "today = datetime.datetime.now()\n",
    "schema='yifanliu'\n",
    "temp_event_funnel='temp_rider_onboarding_funnel_events'\n",
    "output_path=s3_fullpath+temp_event_funnel\n",
    "#visit_temp='tablename=temp_rider_onboarding_funnel_events'\n",
    "lookback=1 #read data lookback window"
   ]
  },
  {
   "cell_type": "code",
   "execution_count": 33,
   "metadata": {
    "ExecuteTime": {
     "end_time": "2021-02-26T23:24:16.318666Z",
     "start_time": "2021-02-26T23:24:16.315532Z"
    }
   },
   "outputs": [],
   "source": [
    "def get_funnel_events(spark, date, lookback, event_name, other_condition=''):\n",
    "    hql = \"\"\"\n",
    "        SELECT *\n",
    "        FROM yifanliu.temp_rider_onboarding_funnel_events a\n",
    "        WHERE a.ds >= CAST(date_add('{date}',-{lookback}) as STRING) and event_name='{event_name}' {other}\n",
    "    \"\"\".format(date=date, lookback=lookback, event_name=event_name, other=other_condition)\n",
    "    print(hql)\n",
    "\n",
    "    return spark.sql(hql)"
   ]
  },
  {
   "cell_type": "code",
   "execution_count": 34,
   "metadata": {
    "ExecuteTime": {
     "end_time": "2021-02-26T23:24:16.864260Z",
     "start_time": "2021-02-26T23:24:16.696883Z"
    }
   },
   "outputs": [
    {
     "name": "stdout",
     "output_type": "stream",
     "text": [
      "\n",
      "        SELECT *\n",
      "        FROM yifanliu.temp_rider_onboarding_funnel_events a\n",
      "        WHERE a.ds >= CAST(date_add('2021-02-26 23:21:14.909596',-1) as STRING) and event_name='benefit_redeemed' \n",
      "    \n",
      "\n",
      "        SELECT *\n",
      "        FROM yifanliu.temp_rider_onboarding_funnel_events a\n",
      "        WHERE a.ds >= CAST(date_add('2021-02-26 23:21:14.909596',-1) as STRING) and event_name='invites_sent' \n",
      "    \n",
      "\n",
      "        SELECT *\n",
      "        FROM yifanliu.temp_rider_onboarding_funnel_events a\n",
      "        WHERE a.ds >= CAST(date_add('2021-02-26 23:21:14.909596',-1) as STRING) and event_name='invite_clicked' \n",
      "    \n"
     ]
    }
   ],
   "source": [
    "benefits_redeemed=get_funnel_events(spark,today,lookback,'benefit_redeemed')\n",
    "invites_sent=get_funnel_events(spark,today,lookback,'invites_sent')\n",
    "invite_clicked=get_funnel_events(spark,today,lookback,'invite_clicked')"
   ]
  },
  {
   "cell_type": "code",
   "execution_count": 35,
   "metadata": {
    "ExecuteTime": {
     "end_time": "2021-02-26T23:24:19.232171Z",
     "start_time": "2021-02-26T23:24:18.633437Z"
    }
   },
   "outputs": [
    {
     "name": "stdout",
     "output_type": "stream",
     "text": [
      "+--------------------+-------------------+------------------------+----------------+-----------------------+-------------+----------+----------------+\n",
      "|         occurred_at|       user_lyft_id|ride_program_customer_id|     coupon_code|ride_program_benefit_id|       source|        ds|      event_name|\n",
      "+--------------------+-------------------+------------------------+----------------+-----------------------+-------------+----------+----------------+\n",
      "|2021-02-25 16:46:...|1511507998969326310|     1511689347926187118|7OZ31BVZK96HND0K|    1511689347926187124|auto_redeemed|2021-02-25|benefit_redeemed|\n",
      "|2021-02-25 16:35:...|1509239447715595054|     1511686530171007536|7OZ31BVZK96HND0K|    1511686530171007542|auto_redeemed|2021-02-25|benefit_redeemed|\n",
      "|2021-02-25 16:53:...|1079849853651104784|     1511691006048692648|BTJBQHSHQU8U9O7S|    1511691006048692654|auto_redeemed|2021-02-25|benefit_redeemed|\n",
      "|2021-02-25 16:52:...|1505356169792662048|     1506160530432888162|PYCAWUD2RP3GOR5Q|    1511690729271378502|auto_redeemed|2021-02-25|benefit_redeemed|\n",
      "|2021-02-25 16:22:...| 729925877452210178|     1511669298762215598|RV1ZTGNCFEW9VW4V|    1511683115672007444|auto_redeemed|2021-02-25|benefit_redeemed|\n",
      "|2021-02-25 16:51:...|1263057976204626466|     1511690535349363014|1VPBBH8AF4L06HGV|    1511690535349363020|auto_redeemed|2021-02-25|benefit_redeemed|\n",
      "|2021-02-25 16:51:...| 752188045825873922|     1511690648169790928|1VPBBH8AF4L06HGV|    1511690648169790934|auto_redeemed|2021-02-25|benefit_redeemed|\n",
      "|2021-02-25 16:16:...| 806256231021333502|     1511681482206791090|O3VN51EPM82GGPW2|    1511681123186996918|mobile_promos|2021-02-25|benefit_redeemed|\n",
      "|2021-02-25 16:49:...|1501528726163260342|     1511689983581347408|EMWL5Z7GIEMO2B74|    1511689983581347414|auto_redeemed|2021-02-25|benefit_redeemed|\n",
      "|2021-02-25 16:52:...| 777341368813406158|     1511690920007398802|1VPBBH8AF4L06HGV|    1511690920007398808|auto_redeemed|2021-02-25|benefit_redeemed|\n",
      "|2021-02-25 16:53:...|1079849853651104784|     1511691040266483188|1VPBBH8AF4L06HGV|    1511691040266483194|auto_redeemed|2021-02-25|benefit_redeemed|\n",
      "|2021-02-25 16:54:...|1307399355193961048|     1511691456878311354|JY8A4OHRZOYMQOFA|    1511691456878311360|auto_redeemed|2021-02-25|benefit_redeemed|\n",
      "|2021-02-25 16:44:...|1465376876103449472|     1511688852873461548|7OZ31BVZK96HND0K|    1511688852873461554|auto_redeemed|2021-02-25|benefit_redeemed|\n",
      "|2021-02-25 16:44:...|1209549034686720794|     1511688672450418390|7OZ31BVZK96HND0K|    1511688672450418396|auto_redeemed|2021-02-25|benefit_redeemed|\n",
      "|2021-02-25 16:33:...|1075693285649550618|     1511685850157677170|0RTE7KIXDF5GWJ3O|    1511685850157677176|auto_redeemed|2021-02-25|benefit_redeemed|\n",
      "|2021-02-25 16:46:...|1446067018450699262|     1511689229116646070|7OZ31BVZK96HND0K|    1511689229116646076|auto_redeemed|2021-02-25|benefit_redeemed|\n",
      "|2021-02-25 16:51:...|1263057976204626466|     1511690538719490814|BTJBQHSHQU8U9O7S|    1511690538719490820|auto_redeemed|2021-02-25|benefit_redeemed|\n",
      "|2021-02-25 16:00:...|1280661314384374770|     1375435091599744632|4BZLRS74SZWD167L|    1511677365237938832|auto_redeemed|2021-02-25|benefit_redeemed|\n",
      "|2021-02-25 16:53:...|1145078327928472054|     1511691122018187270|BTJBQHSHQU8U9O7S|    1511691122018187276|auto_redeemed|2021-02-25|benefit_redeemed|\n",
      "|2021-02-25 16:56:...|1201231554786519130|     1511691869647284028|   ASUPHXFEB2021|    1511691869647284030|mobile_promos|2021-02-25|benefit_redeemed|\n",
      "+--------------------+-------------------+------------------------+----------------+-----------------------+-------------+----------+----------------+\n",
      "only showing top 20 rows\n",
      "\n"
     ]
    }
   ],
   "source": [
    "benefits_redeemed.show()"
   ]
  },
  {
   "cell_type": "code",
   "execution_count": 36,
   "metadata": {
    "ExecuteTime": {
     "end_time": "2021-02-26T23:24:22.785607Z",
     "start_time": "2021-02-26T23:24:22.600333Z"
    }
   },
   "outputs": [
    {
     "name": "stdout",
     "output_type": "stream",
     "text": [
      "\n",
      "        SELECT *\n",
      "        FROM yifanliu.temp_rider_onboarding_funnel_events a\n",
      "        WHERE a.ds >= CAST(date_add('2021-02-26 23:21:14.909596',-1) as STRING) and event_name='ux_displayed' and source in ('welcome_modal','welcome_v2_modal')\n",
      "    \n",
      "\n",
      "        SELECT *\n",
      "        FROM yifanliu.temp_rider_onboarding_funnel_events a\n",
      "        WHERE a.ds >= CAST(date_add('2021-02-26 23:21:14.909596',-1) as STRING) and event_name='ux_tapped' and source in ('program_details_prompt','welcome_v2_modal_continue_button')\n",
      "    \n",
      "\n",
      "        SELECT *\n",
      "        FROM yifanliu.temp_rider_onboarding_funnel_events a\n",
      "        WHERE a.ds >= CAST(date_add('2021-02-26 23:21:14.909596',-1) as STRING) and event_name='ux_tapped' and source in ('welcome_modal_done_button', 'program_details_v2_done_button')\n",
      "    \n"
     ]
    }
   ],
   "source": [
    "welcome_xp_seen=get_funnel_events(spark,today,lookback,'ux_displayed',\"and source in ('welcome_modal','welcome_v2_modal')\")\n",
    "click_see_details=get_funnel_events(spark,today,lookback,'ux_tapped',\"and source in ('program_details_prompt','welcome_v2_modal_continue_button')\")\n",
    "welcome_xp_click_done=get_funnel_events(spark,today,lookback,'ux_tapped',\"and source in ('welcome_modal_done_button', 'program_details_v2_done_button')\")"
   ]
  },
  {
   "cell_type": "code",
   "execution_count": 41,
   "metadata": {
    "ExecuteTime": {
     "end_time": "2021-02-26T23:26:44.187096Z",
     "start_time": "2021-02-26T23:26:44.164330Z"
    }
   },
   "outputs": [],
   "source": [
    "benefits_redeemed.createOrReplaceTempView('benefits_redeemed')\n",
    "invites_sent.createOrReplaceTempView('invites_sent')\n",
    "invite_clicked.createOrReplaceTempView('invite_clicked')\n",
    "\n",
    "welcome_xp_seen.createOrReplaceTempView('welcome_xp_seen')\n",
    "click_see_details.createOrReplaceTempView('click_see_details')\n",
    "welcome_xp_click_done.createOrReplaceTempView('welcome_xp_click_done')\n"
   ]
  },
  {
   "cell_type": "code",
   "execution_count": 39,
   "metadata": {
    "ExecuteTime": {
     "end_time": "2021-02-26T23:24:35.789044Z",
     "start_time": "2021-02-26T23:24:34.464503Z"
    }
   },
   "outputs": [
    {
     "name": "stdout",
     "output_type": "stream",
     "text": [
      "\n",
      "select br.occurred_at benefit_redeemed_at,\n",
      "       br.user_lyft_id as user_lyft_id_redemption, \n",
      "       br.ride_program_customer_id, \n",
      "       br.coupon_code, \n",
      "       br.ride_program_benefit_id,  \n",
      "       br.source claim_source,\n",
      "       isa.occurred_at invites_sent_at,\n",
      "       isa.user_lyft_id user_lyft_id_invite_sent,\n",
      "       ic.occurred_at as invite_clicked_at,\n",
      "       ic.user_lyft_id as user_lyft_id_invite_click,\n",
      "       ic.source as code\n",
      "  from benefits_redeemed br\n",
      "  left join invites_sent isa\n",
      "    on br.user_lyft_id = isa.user_lyft_id\n",
      "   and date_trunc('day', isa.occurred_at) >= date_trunc('day', br.occurred_at) -- track invites sent after benefit redemption\n",
      "   and date_trunc('day', isa.occurred_at) < date_trunc('day', br.occurred_at) + interval '2' day -- track invites sent within 2 days of redemption\n",
      "  left join invite_clicked ic\n",
      "    on br.user_lyft_id = ic.user_lyft_id\n",
      "   and date_trunc('day', ic.occurred_at) >= date_trunc('day', br.occurred_at)\n",
      "   and date_trunc('day', ic.occurred_at) < date_trunc('day', br.occurred_at) + interval '30' day -- track clicks within 30 days of sent\n",
      "where br.ds >= CAST(date_add('2021-02-26 23:21:14.909596',-30) as STRING) and br.ds <= cast('2021-02-26 23:21:14.909596' as string)\n",
      "\n",
      "+--------------------+-----------------------+------------------------+----------------+-----------------------+-------------+--------------------+------------------------+-----------------+-------------------------+----+\n",
      "| benefit_redeemed_at|user_lyft_id_redemption|ride_program_customer_id|     coupon_code|ride_program_benefit_id| claim_source|     invites_sent_at|user_lyft_id_invite_sent|invite_clicked_at|user_lyft_id_invite_click|code|\n",
      "+--------------------+-----------------------+------------------------+----------------+-----------------------+-------------+--------------------+------------------------+-----------------+-------------------------+----+\n",
      "|2021-02-25 16:46:...|    1511507998969326310|     1511689347926187118|7OZ31BVZK96HND0K|    1511689347926187124|auto_redeemed|                null|                    null|             null|                     null|null|\n",
      "|2021-02-25 16:35:...|    1509239447715595054|     1511686530171007536|7OZ31BVZK96HND0K|    1511686530171007542|auto_redeemed|                null|                    null|             null|                     null|null|\n",
      "|2021-02-25 16:53:...|    1079849853651104784|     1511691006048692648|BTJBQHSHQU8U9O7S|    1511691006048692654|auto_redeemed|                null|                    null|             null|                     null|null|\n",
      "|2021-02-25 16:52:...|    1505356169792662048|     1506160530432888162|PYCAWUD2RP3GOR5Q|    1511690729271378502|auto_redeemed|2021-02-25 16:52:...|     1505356169792662048|             null|                     null|null|\n",
      "|2021-02-25 16:22:...|     729925877452210178|     1511669298762215598|RV1ZTGNCFEW9VW4V|    1511683115672007444|auto_redeemed|                null|                    null|             null|                     null|null|\n",
      "|2021-02-25 16:51:...|    1263057976204626466|     1511690535349363014|1VPBBH8AF4L06HGV|    1511690535349363020|auto_redeemed|                null|                    null|             null|                     null|null|\n",
      "|2021-02-25 16:51:...|     752188045825873922|     1511690648169790928|1VPBBH8AF4L06HGV|    1511690648169790934|auto_redeemed|                null|                    null|             null|                     null|null|\n",
      "|2021-02-25 16:16:...|     806256231021333502|     1511681482206791090|O3VN51EPM82GGPW2|    1511681123186996918|mobile_promos|                null|                    null|             null|                     null|null|\n",
      "|2021-02-25 16:49:...|    1501528726163260342|     1511689983581347408|EMWL5Z7GIEMO2B74|    1511689983581347414|auto_redeemed|                null|                    null|             null|                     null|null|\n",
      "|2021-02-25 16:52:...|     777341368813406158|     1511690920007398802|1VPBBH8AF4L06HGV|    1511690920007398808|auto_redeemed|                null|                    null|             null|                     null|null|\n",
      "|2021-02-25 16:53:...|    1079849853651104784|     1511691040266483188|1VPBBH8AF4L06HGV|    1511691040266483194|auto_redeemed|                null|                    null|             null|                     null|null|\n",
      "|2021-02-25 16:54:...|    1307399355193961048|     1511691456878311354|JY8A4OHRZOYMQOFA|    1511691456878311360|auto_redeemed|                null|                    null|             null|                     null|null|\n",
      "|2021-02-25 16:44:...|    1465376876103449472|     1511688852873461548|7OZ31BVZK96HND0K|    1511688852873461554|auto_redeemed|                null|                    null|             null|                     null|null|\n",
      "|2021-02-25 16:44:...|    1209549034686720794|     1511688672450418390|7OZ31BVZK96HND0K|    1511688672450418396|auto_redeemed|                null|                    null|             null|                     null|null|\n",
      "|2021-02-25 16:33:...|    1075693285649550618|     1511685850157677170|0RTE7KIXDF5GWJ3O|    1511685850157677176|auto_redeemed|                null|                    null|             null|                     null|null|\n",
      "|2021-02-25 16:46:...|    1446067018450699262|     1511689229116646070|7OZ31BVZK96HND0K|    1511689229116646076|auto_redeemed|                null|                    null|             null|                     null|null|\n",
      "|2021-02-25 16:51:...|    1263057976204626466|     1511690538719490814|BTJBQHSHQU8U9O7S|    1511690538719490820|auto_redeemed|                null|                    null|             null|                     null|null|\n",
      "|2021-02-25 16:00:...|    1280661314384374770|     1375435091599744632|4BZLRS74SZWD167L|    1511677365237938832|auto_redeemed|2021-02-25 16:00:...|     1280661314384374770|             null|                     null|null|\n",
      "|2021-02-25 16:53:...|    1145078327928472054|     1511691122018187270|BTJBQHSHQU8U9O7S|    1511691122018187276|auto_redeemed|                null|                    null|             null|                     null|null|\n",
      "|2021-02-25 16:56:...|    1201231554786519130|     1511691869647284028|   ASUPHXFEB2021|    1511691869647284030|mobile_promos|                null|                    null|             null|                     null|null|\n",
      "+--------------------+-----------------------+------------------------+----------------+-----------------------+-------------+--------------------+------------------------+-----------------+-------------------------+----+\n",
      "only showing top 20 rows\n",
      "\n"
     ]
    }
   ],
   "source": [
    "combine_invite_clicked = '''\n",
    "select br.occurred_at benefit_redeemed_at,\n",
    "       br.user_lyft_id as user_lyft_id_redemption, \n",
    "       br.ride_program_customer_id, \n",
    "       br.coupon_code, \n",
    "       br.ride_program_benefit_id,  \n",
    "       br.source claim_source,\n",
    "       isa.occurred_at invites_sent_at,\n",
    "       isa.user_lyft_id user_lyft_id_invite_sent,\n",
    "       ic.occurred_at as invite_clicked_at,\n",
    "       ic.user_lyft_id as user_lyft_id_invite_click,\n",
    "       ic.source as code\n",
    "  from benefits_redeemed br\n",
    "  left join invites_sent isa\n",
    "    on br.user_lyft_id = isa.user_lyft_id\n",
    "   and date_trunc('day', isa.occurred_at) >= date_trunc('day', br.occurred_at) -- track invites sent after benefit redemption\n",
    "   and date_trunc('day', isa.occurred_at) < date_trunc('day', br.occurred_at) + interval '2' day -- track invites sent within 2 days of redemption\n",
    "  left join invite_clicked ic\n",
    "    on br.user_lyft_id = ic.user_lyft_id\n",
    "   and date_trunc('day', ic.occurred_at) >= date_trunc('day', br.occurred_at)\n",
    "   and date_trunc('day', ic.occurred_at) < date_trunc('day', br.occurred_at) + interval '30' day -- track clicks within 30 days of sent\n",
    "where br.ds >= CAST(date_add('{date}',-{lookback}) as STRING) and br.ds <= cast('{date}' as string)\n",
    "'''.format(date=today, lookback=30)\n",
    "\n",
    "#print(combine_invite_clicked)\n",
    "combine_invite_clicked = spark.sql(combine_invite_clicked)\n",
    "\n",
    "combine_invite_clicked.createOrReplaceTempView('combine_invite_clicked')\n",
    "\n",
    "#combine_invite_clicked.show()"
   ]
  },
  {
   "cell_type": "code",
   "execution_count": 43,
   "metadata": {
    "ExecuteTime": {
     "end_time": "2021-02-26T23:27:37.752516Z",
     "start_time": "2021-02-26T23:27:22.978189Z"
    }
   },
   "outputs": [
    {
     "name": "stdout",
     "output_type": "stream",
     "text": [
      "\n",
      "select date_trunc('month', benefit_redeemed_at) as benefit_redeemed_at,\n",
      "       count(distinct ic.user_lyft_id_redemption) as num_ppl_redeemed_benefit,\n",
      "       count(distinct ic.user_lyft_id_invite_sent) as num_ppl_receive_sms_push,\n",
      "       count(distinct ic.user_lyft_id_invite_click) as num_ppl_click_invite_mobile,\n",
      "       count(distinct ws.user_lyft_id) as num_ppl_see_welcome_screen,\n",
      "       count(distinct csd.user_lyft_id) as num_ppl_see_details,\n",
      "       count(distinct wd.user_lyft_id) as num_ppl_click_done\n",
      "  from combine_invite_clicked ic\n",
      "  left join welcome_xp_seen ws\n",
      "    on ic.user_lyft_id_redemption = ws.user_lyft_id\n",
      "   and date_trunc('day', ws.occurred_at) = date_trunc('day', invites_sent_at)\n",
      "   and date_trunc('day', ws.occurred_at) < date_trunc('day', invites_sent_at) + interval '30' day -- track welcome screen view within 30 days of sent\n",
      "  left join click_see_details csd\n",
      "    on ic.user_lyft_id_redemption = csd.user_lyft_id\n",
      "   and date_trunc('day', csd.occurred_at) = date_trunc('day', invites_sent_at)\n",
      "   and date_trunc('day', csd.occurred_at) < date_trunc('day', invites_sent_at) + interval '30' day -- track see details click within 30 days of sent\n",
      "  left join welcome_xp_click_done wd\n",
      "    on ic.user_lyft_id_redemption = wd.user_lyft_id\n",
      "   and date_trunc('day', wd.occurred_at) = date_trunc('day', invites_sent_at)\n",
      "   and date_trunc('day', wd.occurred_at) < date_trunc('day', invites_sent_at) + interval '30' day -- track welcome screen done click within 30 days of sent\n",
      " group by 1\n",
      "\n",
      "\n",
      "+-------------------+------------------------+------------------------+---------------------------+--------------------------+-------------------+------------------+\n",
      "|benefit_redeemed_at|num_ppl_redeemed_benefit|num_ppl_receive_sms_push|num_ppl_click_invite_mobile|num_ppl_see_welcome_screen|num_ppl_see_details|num_ppl_click_done|\n",
      "+-------------------+------------------------+------------------------+---------------------------+--------------------------+-------------------+------------------+\n",
      "|2021-02-01 00:00:00|                    2214|                      53|                          0|                         4|                  0|                 4|\n",
      "+-------------------+------------------------+------------------------+---------------------------+--------------------------+-------------------+------------------+\n",
      "\n"
     ]
    }
   ],
   "source": [
    "prep = \"\"\"\n",
    "select date_trunc('month', benefit_redeemed_at) as benefit_redeemed_at,\n",
    "       count(distinct ic.user_lyft_id_redemption) as num_ppl_redeemed_benefit,\n",
    "       count(distinct ic.user_lyft_id_invite_sent) as num_ppl_receive_sms_push,\n",
    "       count(distinct ic.user_lyft_id_invite_click) as num_ppl_click_invite_mobile,\n",
    "       count(distinct ws.user_lyft_id) as num_ppl_see_welcome_screen,\n",
    "       count(distinct csd.user_lyft_id) as num_ppl_see_details,\n",
    "       count(distinct wd.user_lyft_id) as num_ppl_click_done\n",
    "  from combine_invite_clicked ic\n",
    "  left join welcome_xp_seen ws\n",
    "    on ic.user_lyft_id_redemption = ws.user_lyft_id\n",
    "   and date_trunc('day', ws.occurred_at) = date_trunc('day', invites_sent_at)\n",
    "   and date_trunc('day', ws.occurred_at) < date_trunc('day', invites_sent_at) + interval '30' day -- track welcome screen view within 30 days of sent\n",
    "  left join click_see_details csd\n",
    "    on ic.user_lyft_id_redemption = csd.user_lyft_id\n",
    "   and date_trunc('day', csd.occurred_at) = date_trunc('day', invites_sent_at)\n",
    "   and date_trunc('day', csd.occurred_at) < date_trunc('day', invites_sent_at) + interval '30' day -- track see details click within 30 days of sent\n",
    "  left join welcome_xp_click_done wd\n",
    "    on ic.user_lyft_id_redemption = wd.user_lyft_id\n",
    "   and date_trunc('day', wd.occurred_at) = date_trunc('day', invites_sent_at)\n",
    "   and date_trunc('day', wd.occurred_at) < date_trunc('day', invites_sent_at) + interval '30' day -- track welcome screen done click within 30 days of sent\n",
    " group by 1\n",
    "\n",
    "\"\"\"\n",
    "\n",
    "print(prep)\n",
    "prep = spark.sql(prep)\n",
    "prep.show()\n"
   ]
  },
  {
   "cell_type": "code",
   "execution_count": null,
   "metadata": {},
   "outputs": [],
   "source": []
  }
 ],
 "metadata": {
  "kernelspec": {
   "display_name": "Python 3",
   "language": "python",
   "name": "python3"
  },
  "language_info": {
   "codemirror_mode": {
    "name": "ipython",
    "version": 3
   },
   "file_extension": ".py",
   "mimetype": "text/x-python",
   "name": "python",
   "nbconvert_exporter": "python",
   "pygments_lexer": "ipython3",
   "version": "3.6.9"
  }
 },
 "nbformat": 4,
 "nbformat_minor": 4
}
