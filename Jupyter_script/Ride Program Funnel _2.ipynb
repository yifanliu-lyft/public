{
 "cells": [
  {
   "cell_type": "code",
   "execution_count": 4,
   "metadata": {
    "ExecuteTime": {
     "end_time": "2021-04-09T16:42:21.395395Z",
     "start_time": "2021-04-09T16:42:17.622355Z"
    }
   },
   "outputs": [
    {
     "name": "stdout",
     "output_type": "stream",
     "text": [
      "s3://data-team/yifanliu/\n"
     ]
    }
   ],
   "source": [
    "import datetime\n",
    "from pyspark import SparkContext, SparkConf\n",
    "from pyspark.sql import SparkSession, HiveContext, SQLContext\n",
    "\n",
    "\n",
    "from pyspark.sql.functions import (\n",
    "    col,\n",
    "    split\n",
    ")\n",
    "\n",
    "spark_context =SparkContext.getOrCreate()\n",
    "\n",
    "spark = SparkSession.builder \\\n",
    "    .master(\"yarn\") \\\n",
    "    .appName(\"AspectDetector\") \\\n",
    "    .enableHiveSupport() \\\n",
    "    .getOrCreate()\n",
    "\n",
    "sqlContext = SQLContext(spark)\n",
    "\n",
    "# Edit S3 Paths here:\n",
    "s3_bucket = \"data-team\"\n",
    "s3_subpath = \"yifanliu\"\n",
    "s3_fullpath = \"s3://\" + s3_bucket + \"/\" + s3_subpath + \"/\"\n",
    "\n",
    "print(s3_fullpath)\n",
    "\n",
    "#change parameter here\n",
    "today = datetime.datetime.now()\n",
    "schema='yifanliu'\n",
    "temp_event_funnel='temp_rider_onboarding_funnel_events'\n",
    "output_path=s3_fullpath+temp_event_funnel\n",
    "#visit_temp='tablename=temp_rider_onboarding_funnel_events'\n",
    "lookback=180 #read data lookback window"
   ]
  },
  {
   "cell_type": "code",
   "execution_count": 5,
   "metadata": {
    "ExecuteTime": {
     "end_time": "2021-04-09T16:42:21.400194Z",
     "start_time": "2021-04-09T16:42:21.397144Z"
    }
   },
   "outputs": [],
   "source": [
    "def get_funnel_events(spark, date, lookback, event_name, other_condition=''):\n",
    "    hql = \"\"\"\n",
    "        SELECT *\n",
    "        FROM yifanliu.temp_rider_onboarding_funnel_events a\n",
    "        WHERE a.ds >= CAST(date_add('{date}',-{lookback}) as STRING) and event_name='{event_name}' {other}\n",
    "    \"\"\".format(date=date, lookback=lookback, event_name=event_name, other=other_condition)\n",
    "    print(hql)\n",
    "\n",
    "    return spark.sql(hql)"
   ]
  },
  {
   "cell_type": "code",
   "execution_count": 6,
   "metadata": {
    "ExecuteTime": {
     "end_time": "2021-04-09T16:42:25.755754Z",
     "start_time": "2021-04-09T16:42:21.401590Z"
    }
   },
   "outputs": [
    {
     "name": "stdout",
     "output_type": "stream",
     "text": [
      "\n",
      "        SELECT *\n",
      "        FROM yifanliu.temp_rider_onboarding_funnel_events a\n",
      "        WHERE a.ds >= CAST(date_add('2021-04-09 16:42:21.392601',-180) as STRING) and event_name='benefit_redeemed' \n",
      "    \n",
      "\n",
      "        SELECT *\n",
      "        FROM yifanliu.temp_rider_onboarding_funnel_events a\n",
      "        WHERE a.ds >= CAST(date_add('2021-04-09 16:42:21.392601',-180) as STRING) and event_name='invites_sent' \n",
      "    \n",
      "\n",
      "        SELECT *\n",
      "        FROM yifanliu.temp_rider_onboarding_funnel_events a\n",
      "        WHERE a.ds >= CAST(date_add('2021-04-09 16:42:21.392601',-180) as STRING) and event_name='invite_clicked' \n",
      "    \n"
     ]
    }
   ],
   "source": [
    "benefits_redeemed=get_funnel_events(spark,today,lookback,'benefit_redeemed')\n",
    "invites_sent=get_funnel_events(spark,today,lookback,'invites_sent')\n",
    "invite_clicked=get_funnel_events(spark,today,lookback,'invite_clicked')"
   ]
  },
  {
   "cell_type": "code",
   "execution_count": 7,
   "metadata": {
    "ExecuteTime": {
     "end_time": "2021-04-09T16:42:31.656023Z",
     "start_time": "2021-04-09T16:42:25.757502Z"
    }
   },
   "outputs": [
    {
     "name": "stdout",
     "output_type": "stream",
     "text": [
      "+--------------------+-------------------+------------------------+----------------+-----------------------+-------------+----------+----------------+\n",
      "|         occurred_at|       user_lyft_id|ride_program_customer_id|     coupon_code|ride_program_benefit_id|       source|        ds|      event_name|\n",
      "+--------------------+-------------------+------------------------+----------------+-----------------------+-------------+----------+----------------+\n",
      "|2021-04-01 02:16:...|1195251723155094104|     1440844309854684122|HTGPTM0VRLEX36UD|    1524453140209218490|auto_redeemed|2021-04-01|benefit_redeemed|\n",
      "|2021-04-01 02:13:...| 904258935779231192|     1434172583399954792|7YCQKWCSB759AHGM|    1524452380000007630|auto_redeemed|2021-04-01|benefit_redeemed|\n",
      "|2021-04-01 02:02:...| 824974358741773872|     1478736557549598434|IZTHSY0T7X263KSQ|    1524449496102709900|auto_redeemed|2021-04-01|benefit_redeemed|\n",
      "|2021-04-01 02:18:...| 904715062764748622|     1388992374072394328|QCQ2IXRLBC98479L|    1524453561192246440|auto_redeemed|2021-04-01|benefit_redeemed|\n",
      "|2021-04-01 02:24:...| 958455680579321268|     1441629066977998422|LZ9X0VT14E96K0HW|    1524455099093240944|auto_redeemed|2021-04-01|benefit_redeemed|\n",
      "|2021-04-01 02:12:...| 831212790546493806|     1438543268146682370|1HODDC02CKX0L0XN|    1524452043516975802|auto_redeemed|2021-04-01|benefit_redeemed|\n",
      "|2021-04-01 02:23:...| 862784470067574640|     1521070737598079946|LZ9X0VT14E96K0HW|    1524454825045850496|auto_redeemed|2021-04-01|benefit_redeemed|\n",
      "|2021-04-01 02:23:...|1308489626146480898|     1499279961958995898|LZ9X0VT14E96K0HW|    1524454750821954768|auto_redeemed|2021-04-01|benefit_redeemed|\n",
      "|2021-04-01 02:12:...| 639615669209737260|     1438565111077614160|1HODDC02CKX0L0XN|    1524452076266782320|auto_redeemed|2021-04-01|benefit_redeemed|\n",
      "|2021-04-01 02:31:...|1477033195879834080|     1477033406443434766|4FV53WUQW2TA9NSM|    1524456892368744846|auto_redeemed|2021-04-01|benefit_redeemed|\n",
      "|2021-04-01 02:18:...|1077818585360859246|     1472867630788720370|YZDTGUX76VQ4EP2O|    1524453712329208066|auto_redeemed|2021-04-01|benefit_redeemed|\n",
      "|2021-04-01 02:20:...| 630156981955067454|     1388993900425857094|QCQ2IXRLBC98479L|    1524454153790666138|auto_redeemed|2021-04-01|benefit_redeemed|\n",
      "|2021-04-01 02:19:...|1065047626738180720|     1388993153694582744|QCQ2IXRLBC98479L|    1524453944577556064|auto_redeemed|2021-04-01|benefit_redeemed|\n",
      "|2021-04-01 02:21:...|1254000492572703250|     1441627018896611922|LZ9X0VT14E96K0HW|    1524454373302071112|auto_redeemed|2021-04-01|benefit_redeemed|\n",
      "|2021-04-01 02:26:...|1443750277725716538|     1443750282511114692|N0IVBAXKPAQ5F2UL|    1524455527339177572|auto_redeemed|2021-04-01|benefit_redeemed|\n",
      "|2021-04-01 02:08:...|1034114779886351128|     1438547365545483238|1HODDC02CKX0L0XN|    1524451133587633910|auto_redeemed|2021-04-01|benefit_redeemed|\n",
      "|2021-04-01 02:19:...|1037805795208255122|     1388993178138964552|QCQ2IXRLBC98479L|    1524453826277539618|auto_redeemed|2021-04-01|benefit_redeemed|\n",
      "|2021-04-01 02:16:...|1460603000983632180|     1461262381652643890|QCQ2IXRLBC98479L|    1524453148875386494|auto_redeemed|2021-04-01|benefit_redeemed|\n",
      "|2021-04-01 02:13:...|1360360972360501392|     1434171903825145446|7YCQKWCSB759AHGM|    1524452419086732576|auto_redeemed|2021-04-01|benefit_redeemed|\n",
      "|2021-04-01 02:05:...|1042478479034222688|     1439373389290601704|1HODDC02CKX0L0XN|    1524450140680155510|auto_redeemed|2021-04-01|benefit_redeemed|\n",
      "+--------------------+-------------------+------------------------+----------------+-----------------------+-------------+----------+----------------+\n",
      "only showing top 20 rows\n",
      "\n"
     ]
    }
   ],
   "source": [
    "benefits_redeemed.show()"
   ]
  },
  {
   "cell_type": "code",
   "execution_count": 8,
   "metadata": {
    "ExecuteTime": {
     "end_time": "2021-04-09T16:42:31.861859Z",
     "start_time": "2021-04-09T16:42:31.657526Z"
    }
   },
   "outputs": [
    {
     "name": "stdout",
     "output_type": "stream",
     "text": [
      "\n",
      "        SELECT *\n",
      "        FROM yifanliu.temp_rider_onboarding_funnel_events a\n",
      "        WHERE a.ds >= CAST(date_add('2021-04-09 16:42:21.392601',-180) as STRING) and event_name='ux_displayed' and source in ('welcome_modal','welcome_v2_modal')\n",
      "    \n",
      "\n",
      "        SELECT *\n",
      "        FROM yifanliu.temp_rider_onboarding_funnel_events a\n",
      "        WHERE a.ds >= CAST(date_add('2021-04-09 16:42:21.392601',-180) as STRING) and event_name='ux_tapped' and source in ('program_details_prompt','welcome_v2_modal_continue_button')\n",
      "    \n",
      "\n",
      "        SELECT *\n",
      "        FROM yifanliu.temp_rider_onboarding_funnel_events a\n",
      "        WHERE a.ds >= CAST(date_add('2021-04-09 16:42:21.392601',-180) as STRING) and event_name='ux_tapped' and source in ('welcome_modal_done_button', 'program_details_v2_done_button')\n",
      "    \n"
     ]
    }
   ],
   "source": [
    "welcome_xp_seen=get_funnel_events(spark,today,lookback,'ux_displayed',\"and source in ('welcome_modal','welcome_v2_modal')\")\n",
    "click_see_details=get_funnel_events(spark,today,lookback,'ux_displayed',\"and source in ('program_details_prompt','welcome_v2_modal_continue_button')\")\n",
    "welcome_xp_click_done=get_funnel_events(spark,today,lookback,'ux_tapped',\"and source in ('welcome_modal_done_button', 'program_details_v2_done_button')\")"
   ]
  },
  {
   "cell_type": "code",
   "execution_count": 9,
   "metadata": {
    "ExecuteTime": {
     "end_time": "2021-04-09T16:42:31.927045Z",
     "start_time": "2021-04-09T16:42:31.863142Z"
    }
   },
   "outputs": [],
   "source": [
    "benefits_redeemed.createOrReplaceTempView('benefits_redeemed')\n",
    "invites_sent.createOrReplaceTempView('invites_sent')\n",
    "invite_clicked.createOrReplaceTempView('invite_clicked')\n",
    "\n",
    "welcome_xp_seen.createOrReplaceTempView('welcome_xp_seen')\n",
    "click_see_details.createOrReplaceTempView('click_see_details')\n",
    "welcome_xp_click_done.createOrReplaceTempView('welcome_xp_click_done')\n"
   ]
  },
  {
   "cell_type": "code",
   "execution_count": 18,
   "metadata": {
    "ExecuteTime": {
     "end_time": "2021-04-09T21:21:04.516793Z",
     "start_time": "2021-04-09T21:21:04.474752Z"
    }
   },
   "outputs": [],
   "source": [
    "combine_invite_clicked = '''\n",
    "select br.occurred_at benefit_redeemed_at,\n",
    "       br.user_lyft_id as user_lyft_id_redemption, \n",
    "       br.ride_program_customer_id, \n",
    "       br.coupon_code, \n",
    "       br.ride_program_benefit_id,  \n",
    "       br.source claim_source,\n",
    "       isa.occurred_at invites_sent_at,\n",
    "       isa.user_lyft_id user_lyft_id_invite_sent,\n",
    "       ic.occurred_at as invite_clicked_at,\n",
    "       ic.user_lyft_id as user_lyft_id_invite_click,\n",
    "       ic.source as code\n",
    "  from benefits_redeemed br\n",
    "  left join invites_sent isa\n",
    "    on br.user_lyft_id = isa.user_lyft_id\n",
    "   and date_trunc('day', isa.occurred_at) >= date_trunc('day', br.occurred_at) -- track invites sent after benefit redemption\n",
    "   and date_trunc('day', isa.occurred_at) < date_trunc('day', br.occurred_at) + interval '2' day -- track invites sent within 2 days of redemption\n",
    "  left join invite_clicked ic\n",
    "    on br.user_lyft_id = ic.user_lyft_id\n",
    "   and date_trunc('day', ic.occurred_at) >= date_trunc('day', br.occurred_at)\n",
    "   and date_trunc('day', ic.occurred_at) < date_trunc('day', br.occurred_at) + interval '30' day -- track clicks within 30 days of sent\n",
    "where br.ds >= CAST(date_add('{date}',-{lookback}) as STRING) and br.ds <= cast('{date}' as string)\n",
    "'''.format(date=today, lookback=lookback)\n",
    "\n",
    "#print(combine_invite_clicked)\n",
    "combine_invite_clicked = spark.sql(combine_invite_clicked)\n",
    "\n",
    "combine_invite_clicked.createOrReplaceTempView('combine_invite_clicked')\n",
    "\n",
    "#combine_invite_clicked.show()"
   ]
  },
  {
   "cell_type": "code",
   "execution_count": 19,
   "metadata": {
    "ExecuteTime": {
     "end_time": "2021-04-09T21:27:30.344230Z",
     "start_time": "2021-04-09T21:21:05.599548Z"
    }
   },
   "outputs": [
    {
     "name": "stdout",
     "output_type": "stream",
     "text": [
      "\n",
      "select date_trunc('month', benefit_redeemed_at) as benefit_redeemed_at,\n",
      "       count(distinct ic.user_lyft_id_redemption) as num_ppl_redeemed_benefit,\n",
      "       count(distinct ic.user_lyft_id_invite_sent) as num_ppl_receive_sms_push,\n",
      "       count(distinct ic.user_lyft_id_invite_click) as num_ppl_click_invite_mobile,\n",
      "       count(distinct ws.user_lyft_id) as num_ppl_see_welcome_screen,\n",
      "       count(distinct csd.user_lyft_id) as num_ppl_see_details,\n",
      "       count(distinct wd.user_lyft_id) as num_ppl_click_done\n",
      "  from combine_invite_clicked ic\n",
      "  left join welcome_xp_seen ws\n",
      "    on ic.user_lyft_id_redemption = ws.user_lyft_id\n",
      "   and date_trunc('day', ws.occurred_at) >= date_trunc('day', invites_sent_at)\n",
      "   and date_trunc('day', ws.occurred_at) < date_trunc('day', invites_sent_at) + interval '30' day -- track welcome screen view within 30 days of sent\n",
      "  left join click_see_details csd\n",
      "    on ic.user_lyft_id_redemption = csd.user_lyft_id\n",
      "   and date_trunc('day', csd.occurred_at) >= date_trunc('day', invites_sent_at)\n",
      "   and date_trunc('day', csd.occurred_at) < date_trunc('day', invites_sent_at) + interval '30' day -- track see details click within 30 days of sent\n",
      "  left join welcome_xp_click_done wd\n",
      "    on ic.user_lyft_id_redemption = wd.user_lyft_id\n",
      "   and date_trunc('day', wd.occurred_at) >= date_trunc('day', invites_sent_at)\n",
      "   and date_trunc('day', wd.occurred_at) < date_trunc('day', invites_sent_at) + interval '30' day -- track welcome screen done click within 30 days of sent\n",
      " group by 1\n",
      "\n",
      "\n",
      "+-------------------+------------------------+------------------------+---------------------------+--------------------------+-------------------+------------------+\n",
      "|benefit_redeemed_at|num_ppl_redeemed_benefit|num_ppl_receive_sms_push|num_ppl_click_invite_mobile|num_ppl_see_welcome_screen|num_ppl_see_details|num_ppl_click_done|\n",
      "+-------------------+------------------------+------------------------+---------------------------+--------------------------+-------------------+------------------+\n",
      "|2021-04-01 00:00:00|                  192491|                   71059|                          0|                      3341|                782|              2494|\n",
      "|2021-02-01 00:00:00|                  248193|                  111510|                         99|                      7312|               2215|              5922|\n",
      "|2021-03-01 00:00:00|                  238901|                  104142|                        333|                      6196|               1366|              4957|\n",
      "|2021-01-01 00:00:00|                    9262|                    7854|                          7|                       595|                191|               474|\n",
      "+-------------------+------------------------+------------------------+---------------------------+--------------------------+-------------------+------------------+\n",
      "\n"
     ]
    }
   ],
   "source": [
    "prep = \"\"\"\n",
    "select date_trunc('month', benefit_redeemed_at) as benefit_redeemed_at,\n",
    "       count(distinct ic.user_lyft_id_redemption) as num_ppl_redeemed_benefit,\n",
    "       count(distinct ic.user_lyft_id_invite_sent) as num_ppl_receive_sms_push,\n",
    "       count(distinct ic.user_lyft_id_invite_click) as num_ppl_click_invite_mobile,\n",
    "       count(distinct ws.user_lyft_id) as num_ppl_see_welcome_screen,\n",
    "       count(distinct csd.user_lyft_id) as num_ppl_see_details,\n",
    "       count(distinct wd.user_lyft_id) as num_ppl_click_done\n",
    "  from combine_invite_clicked ic\n",
    "  left join welcome_xp_seen ws\n",
    "    on ic.user_lyft_id_redemption = ws.user_lyft_id\n",
    "   and date_trunc('day', ws.occurred_at) >= date_trunc('day', invites_sent_at)\n",
    "   and date_trunc('day', ws.occurred_at) < date_trunc('day', invites_sent_at) + interval '30' day -- track welcome screen view within 30 days of sent\n",
    "  left join click_see_details csd\n",
    "    on ic.user_lyft_id_redemption = csd.user_lyft_id\n",
    "   and date_trunc('day', csd.occurred_at) >= date_trunc('day', invites_sent_at)\n",
    "   and date_trunc('day', csd.occurred_at) < date_trunc('day', invites_sent_at) + interval '30' day -- track see details click within 30 days of sent\n",
    "  left join welcome_xp_click_done wd\n",
    "    on ic.user_lyft_id_redemption = wd.user_lyft_id\n",
    "   and date_trunc('day', wd.occurred_at) >= date_trunc('day', invites_sent_at)\n",
    "   and date_trunc('day', wd.occurred_at) < date_trunc('day', invites_sent_at) + interval '30' day -- track welcome screen done click within 30 days of sent\n",
    " group by 1\n",
    "\n",
    "\"\"\"\n",
    "\n",
    "print(prep)\n",
    "prep = spark.sql(prep)\n",
    "prep.show()\n"
   ]
  },
  {
   "cell_type": "code",
   "execution_count": 20,
   "metadata": {
    "ExecuteTime": {
     "end_time": "2021-04-09T21:33:43.404366Z",
     "start_time": "2021-04-09T21:27:30.345602Z"
    }
   },
   "outputs": [],
   "source": [
    "spark = SparkSession.builder.config(\"spark.sql.broadcastTimeout\", \"36000\").getOrCreate()\n",
    "prep.write.mode(\"overwrite\").parquet('s3://data-team/users/yifanliu/temp_prep')"
   ]
  },
  {
   "cell_type": "markdown",
   "metadata": {},
   "source": [
    "do this:\n",
    "```\n",
    "drop table yifanliu.temp_prep  ;\n",
    "create external table yifanliu.temp_prep  \n",
    "(\n",
    "benefit_redeemed_at timestamp,\n",
    "num_ppl_redeemed_benefit bigint,\n",
    "num_ppl_receive_sms_push bigint,\n",
    "num_ppl_click_invite_mobile bigint,\n",
    "num_ppl_see_welcome_screen bigint,\n",
    "num_ppl_see_details bigint,\n",
    "num_ppl_click_done bigint\n",
    ")\n",
    "STORED AS PARQUET\n",
    "LOCATION\n",
    "  's3://data-team/users/yifanliu/temp_prep'\n",
    "  TBLPROPERTIES ('PARQUET.COMPRESS'='SNAPPY');\n",
    "```"
   ]
  },
  {
   "cell_type": "code",
   "execution_count": null,
   "metadata": {},
   "outputs": [],
   "source": []
  }
 ],
 "metadata": {
  "kernelspec": {
   "display_name": "Python 3",
   "language": "python",
   "name": "python3"
  },
  "language_info": {
   "codemirror_mode": {
    "name": "ipython",
    "version": 3
   },
   "file_extension": ".py",
   "mimetype": "text/x-python",
   "name": "python",
   "nbconvert_exporter": "python",
   "pygments_lexer": "ipython3",
   "version": "3.6.9"
  }
 },
 "nbformat": 4,
 "nbformat_minor": 4
}
